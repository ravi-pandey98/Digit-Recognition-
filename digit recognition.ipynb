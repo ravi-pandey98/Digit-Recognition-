{
 "cells": [
  {
   "cell_type": "markdown",
   "metadata": {},
   "source": [
    "# Digit Recoginition\n"
   ]
  },
  {
   "cell_type": "code",
   "execution_count": 1,
   "metadata": {},
   "outputs": [],
   "source": [
    "import warnings\n",
    "warnings.filterwarnings(\"ignore\")\n",
    "\n",
    "#Standard scientific python imports\n",
    "import matplotlib.pyplot as plt\n",
    "\n",
    "#Import datasets,classifiers and performance metrics\n",
    "from sklearn import datasets,svm  #svm= it divided 1797 images into thier values"
   ]
  },
  {
   "cell_type": "markdown",
   "metadata": {},
   "source": [
    "# Import dataset from sl"
   ]
  },
  {
   "cell_type": "code",
   "execution_count": 2,
   "metadata": {},
   "outputs": [
    {
     "name": "stdout",
     "output_type": "stream",
     "text": [
      "Digits: dict_keys(['data', 'target', 'target_names', 'images', 'DESCR'])\n",
      "Digits.target---: [0 1 2 ... 8 9 8]\n",
      "len(images_and_labels): 1797\n",
      "index: 0 image:\n",
      " [[ 0.  0.  5. 13.  9.  1.  0.  0.]\n",
      " [ 0.  0. 13. 15. 10. 15.  5.  0.]\n",
      " [ 0.  3. 15.  2.  0. 11.  8.  0.]\n",
      " [ 0.  4. 12.  0.  0.  8.  8.  0.]\n",
      " [ 0.  5.  8.  0.  0.  9.  8.  0.]\n",
      " [ 0.  4. 11.  0.  1. 12.  7.  0.]\n",
      " [ 0.  2. 14.  5. 10. 12.  0.  0.]\n",
      " [ 0.  0.  6. 13. 10.  0.  0.  0.]] label: 0\n",
      "index: 1 image:\n",
      " [[ 0.  0.  0. 12. 13.  5.  0.  0.]\n",
      " [ 0.  0.  0. 11. 16.  9.  0.  0.]\n",
      " [ 0.  0.  3. 15. 16.  6.  0.  0.]\n",
      " [ 0.  7. 15. 16. 16.  2.  0.  0.]\n",
      " [ 0.  0.  1. 16. 16.  3.  0.  0.]\n",
      " [ 0.  0.  1. 16. 16.  6.  0.  0.]\n",
      " [ 0.  0.  1. 16. 16.  6.  0.  0.]\n",
      " [ 0.  0.  0. 11. 16. 10.  0.  0.]] label: 1\n",
      "index: 2 image:\n",
      " [[ 0.  0.  0.  4. 15. 12.  0.  0.]\n",
      " [ 0.  0.  3. 16. 15. 14.  0.  0.]\n",
      " [ 0.  0.  8. 13.  8. 16.  0.  0.]\n",
      " [ 0.  0.  1.  6. 15. 11.  0.  0.]\n",
      " [ 0.  1.  8. 13. 15.  1.  0.  0.]\n",
      " [ 0.  9. 16. 16.  5.  0.  0.  0.]\n",
      " [ 0.  3. 13. 16. 16. 11.  5.  0.]\n",
      " [ 0.  0.  0.  3. 11. 16.  9.  0.]] label: 2\n",
      "index: 3 image:\n",
      " [[ 0.  0.  7. 15. 13.  1.  0.  0.]\n",
      " [ 0.  8. 13.  6. 15.  4.  0.  0.]\n",
      " [ 0.  2.  1. 13. 13.  0.  0.  0.]\n",
      " [ 0.  0.  2. 15. 11.  1.  0.  0.]\n",
      " [ 0.  0.  0.  1. 12. 12.  1.  0.]\n",
      " [ 0.  0.  0.  0.  1. 10.  8.  0.]\n",
      " [ 0.  0.  8.  4.  5. 14.  9.  0.]\n",
      " [ 0.  0.  7. 13. 13.  9.  0.  0.]] label: 3\n",
      "index: 4 image:\n",
      " [[ 0.  0.  0.  1. 11.  0.  0.  0.]\n",
      " [ 0.  0.  0.  7.  8.  0.  0.  0.]\n",
      " [ 0.  0.  1. 13.  6.  2.  2.  0.]\n",
      " [ 0.  0.  7. 15.  0.  9.  8.  0.]\n",
      " [ 0.  5. 16. 10.  0. 16.  6.  0.]\n",
      " [ 0.  4. 15. 16. 13. 16.  1.  0.]\n",
      " [ 0.  0.  0.  3. 15. 10.  0.  0.]\n",
      " [ 0.  0.  0.  2. 16.  4.  0.  0.]] label: 4\n"
     ]
    },
    {
     "data": {
      "image/png": "[encoded data removed]",
      "text/plain": [
       "<Figure size 432x288 with 5 Axes>"
      ]
     },
     "metadata": {
      "needs_background": "light"
     },
     "output_type": "display_data"
    }
   ],
   "source": [
    "#The digits dataset\n",
    "digits=datasets.load_digits()\n",
    "\n",
    "print(\"Digits:\",digits.keys())\n",
    "print(\"Digits.target---:\",digits.target)\n",
    "\n",
    "images_and_labels=list(zip(digits.images,digits.target))\n",
    "\n",
    "print(\"len(images_and_labels):\",len(images_and_labels))\n",
    "\n",
    "for index,[image,label] in enumerate(images_and_labels[0:5]):\n",
    "    print(\"index:\",index,\"image:\\n\",image,\"label:\",label)\n",
    "    plt.subplot(2,5,index+1)        #Position numbering starts from 1\n",
    "    plt.axis('on')\n",
    "    plt.imshow(image,cmap=plt.cm.gray_r,interpolation='nearest')\n",
    "    plt.title(\"Training:%i\"%label)\n",
    "    #plt.show()\n"
   ]
  },
  {
   "cell_type": "code",
   "execution_count": 3,
   "metadata": {},
   "outputs": [
    {
     "name": "stdout",
     "output_type": "stream",
     "text": [
      "n_samples: 1797\n",
      "After reshaped:len(imagedata[0]: 64\n"
     ]
    }
   ],
   "source": [
    "\n",
    "#To apply a classifier on this data, we need to flatten the image to turn the data in a (sample,feature)matrix\n",
    "\n",
    "n_samples=len(digits.images)\n",
    "print(\"n_samples:\",n_samples)\n",
    "\n",
    "imagedata=digits.images.reshape((n_samples,-1))\n",
    "\n",
    "print(\"After reshaped:len(imagedata[0]:\",len(imagedata[0]))\n"
   ]
  },
  {
   "cell_type": "code",
   "execution_count": 4,
   "metadata": {},
   "outputs": [
    {
     "name": "stdout",
     "output_type": "stream",
     "text": [
      "Original values: [8 8 4 9 0]\n"
     ]
    },
    {
     "data": {
      "image/png": "[encoded data removed]",
      "text/plain": [
       "<Figure size 432x288 with 5 Axes>"
      ]
     },
     "metadata": {
      "needs_background": "light"
     },
     "output_type": "display_data"
    }
   ],
   "source": [
    "\n",
    "#Create a classifier:a support vector classifier\n",
    "classifier=svm.SVC(gamma=0.001)\n",
    "\n",
    "#We learn the digits on the first half of the digits\n",
    "classifier.fit(imagedata[:n_samples//2],digits.target[:n_samples//2])\n",
    "\n",
    "#Now predict the value of the digit on the second half:\n",
    "expectedY=digits.target[n_samples//2:]\n",
    "\n",
    "predictedY=classifier.predict(imagedata[n_samples//2:])\n",
    "\n",
    "images_and_predictions=list(zip(digits.images[n_samples//2:],predictedY))\n",
    "for index,[image,prediction] in enumerate(images_and_predictions[:5]):\n",
    "    plt.subplot(2,5,index+6)\n",
    "    plt.axis(\"on\")\n",
    "    plt.imshow(image,cmap=plt.cm.gray_r,interpolation='nearest')\n",
    "    plt.title(\"Prediction:%i\"%prediction)\n",
    "\n",
    "print(\"Original values:\",digits.target[n_samples//2:(n_samples//2)+5])\n",
    "plt.show()\n"
   ]
  },
  {
   "cell_type": "code",
   "execution_count": 5,
   "metadata": {},
   "outputs": [
    {
     "ename": "ImportError",
     "evalue": "cannot import name 'imread' from 'scipy.misc' (c:\\users\\ravi pandey\\appdata\\local\\programs\\python\\python38\\lib\\site-packages\\scipy\\misc\\__init__.py)",
     "output_type": "error",
     "traceback": [
      "\u001b[1;31m---------------------------------------------------------------------------\u001b[0m",
      "\u001b[1;31mImportError\u001b[0m                               Traceback (most recent call last)",
      "\u001b[1;32m<ipython-input-5-66a9958c585a>\u001b[0m in \u001b[0;36m<module>\u001b[1;34m\u001b[0m\n\u001b[0;32m      1\u001b[0m \u001b[1;31m#Install Pillow Library\u001b[0m\u001b[1;33m\u001b[0m\u001b[1;33m\u001b[0m\u001b[1;33m\u001b[0m\u001b[0m\n\u001b[1;32m----> 2\u001b[1;33m \u001b[1;32mfrom\u001b[0m \u001b[0mscipy\u001b[0m\u001b[1;33m.\u001b[0m\u001b[0mmisc\u001b[0m \u001b[1;32mimport\u001b[0m \u001b[0mimread\u001b[0m\u001b[1;33m,\u001b[0m\u001b[0mimresize\u001b[0m\u001b[1;33m,\u001b[0m\u001b[0mbytescale\u001b[0m\u001b[1;33m\u001b[0m\u001b[1;33m\u001b[0m\u001b[0m\n\u001b[0m\u001b[0;32m      3\u001b[0m \u001b[1;33m\u001b[0m\u001b[0m\n\u001b[0;32m      4\u001b[0m \u001b[0mimg\u001b[0m\u001b[1;33m=\u001b[0m\u001b[0mimread\u001b[0m\u001b[1;33m(\u001b[0m\u001b[1;34m\"E:/pycharm projects/PycharmProjects/AIProject/Project/five.jpg\"\u001b[0m\u001b[1;33m)\u001b[0m\u001b[1;33m\u001b[0m\u001b[1;33m\u001b[0m\u001b[0m\n\u001b[0;32m      5\u001b[0m \u001b[0mimg\u001b[0m\u001b[1;33m=\u001b[0m\u001b[0mimresize\u001b[0m\u001b[1;33m(\u001b[0m\u001b[0mimg\u001b[0m\u001b[1;33m,\u001b[0m\u001b[1;33m(\u001b[0m\u001b[1;36m8\u001b[0m\u001b[1;33m,\u001b[0m\u001b[1;36m8\u001b[0m\u001b[1;33m)\u001b[0m\u001b[1;33m)\u001b[0m\u001b[1;33m\u001b[0m\u001b[1;33m\u001b[0m\u001b[0m\n",
      "\u001b[1;31mImportError\u001b[0m: cannot import name 'imread' from 'scipy.misc' (c:\\users\\ravi pandey\\appdata\\local\\programs\\python\\python38\\lib\\site-packages\\scipy\\misc\\__init__.py)"
     ]
    }
   ],
   "source": [
    "\n",
    "#Install Pillow Library\n",
    "from scipy.misc import imread,imresize,bytescale\n",
    "\n",
    "img=imread(\"E:/pycharm projects/PycharmProjects/AIProject/Project/five.jpg\")\n",
    "img=imresize(img,(8,8))\n",
    "\n",
    "classifier=svm.SVC(gamma=0.001)\n",
    "classifier.fit(imagedata[:],digits.target[:])\n",
    "\n",
    "img=img.astype(digits.images.dtype)\n",
    "img=bytescale(img,high=16.0,low=0)\n",
    "\n",
    "print(\"img.shape:\",img.shape)\n",
    "print(\"\\n\",img)\n",
    "\n",
    "x_testdata=[]\n",
    "\n",
    "for c in img:\n",
    "    for r in c :\n",
    "        x_testdata.append(sum(r)/3.0)\n",
    "\n",
    "print(\"x_testdata:\\n\",x_testdata)\n",
    "\n",
    "print(\"len(x_testdata):\",len(x_testdata))\n",
    "\n",
    "x_testdata=[x_testdata]\n",
    "print(\"len(x_testdata):\",len(x_testdata))\n",
    "\n",
    "print(\"Machine Output=\",classifier.predict(x_testdata))\n",
    "\n",
    "plt.show()\n",
    "\n",
    "\n",
    "\n"
   ]
  },
  {
   "cell_type": "code",
   "execution_count": null,
   "metadata": {},
   "outputs": [],
   "source": []
  }
 ],
 "metadata": {
  "kernelspec": {
   "display_name": "Python 3",
   "language": "python",
   "name": "python3"
  },
  "language_info": {
   "codemirror_mode": {
    "name": "ipython",
    "version": 3
   },
   "file_extension": ".py",
   "mimetype": "text/x-python",
   "name": "python",
   "nbconvert_exporter": "python",
   "pygments_lexer": "ipython3",
   "version": "3.8.1"
  }
 },
 "nbformat": 4,
 "nbformat_minor": 4
}
